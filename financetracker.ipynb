{
 "cells": [
  {
   "cell_type": "code",
   "execution_count": 2,
   "id": "4c892331-6a70-47f2-9a13-9263f5e8cc0f",
   "metadata": {},
   "outputs": [
    {
     "name": "stdout",
     "output_type": "stream",
     "text": [
      "\n",
      "Personal Finance Tracker\n",
      "1. Add Transaction\n",
      "2. View Transactions\n",
      "3. Export to CSV\n",
      "4. Generate Reports\n",
      "5. Set Budget\n",
      "6. Exit\n"
     ]
    },
    {
     "name": "stdin",
     "output_type": "stream",
     "text": [
      "\n",
      "Enter your choice:  1\n",
      "Enter the date (YYYY-MM-DD):  2025-01-30\n",
      "Enter the type (income/expense):  income\n",
      "Enter the category (e.g., salary, groceries, rent):  salary\n",
      "Enter the amount:  12000\n"
     ]
    },
    {
     "name": "stderr",
     "output_type": "stream",
     "text": [
      "C:\\Users\\91942\\AppData\\Local\\Temp\\ipykernel_9360\\972606208.py:17: FutureWarning: The behavior of DataFrame concatenation with empty or all-NA entries is deprecated. In a future version, this will no longer exclude empty or all-NA columns when determining the result dtypes. To retain the old behavior, exclude the relevant entries before the concat operation.\n",
      "  data = pd.concat([data, pd.DataFrame({\"Date\": [date], \"Type\": [trans_type], \"Category\": [category], \"Amount\": [amount]})], ignore_index=True)\n"
     ]
    },
    {
     "name": "stdout",
     "output_type": "stream",
     "text": [
      "Transaction added successfully!\n",
      "\n",
      "\n",
      "Personal Finance Tracker\n",
      "1. Add Transaction\n",
      "2. View Transactions\n",
      "3. Export to CSV\n",
      "4. Generate Reports\n",
      "5. Set Budget\n",
      "6. Exit\n"
     ]
    },
    {
     "name": "stdin",
     "output_type": "stream",
     "text": [
      "\n",
      "Enter your choice:  2\n"
     ]
    },
    {
     "name": "stdout",
     "output_type": "stream",
     "text": [
      "\n",
      "All Transactions:\n",
      "      Date   Type Category  Amount\n",
      "2025-01-30 income   salary 12000.0\n",
      "\n",
      "Personal Finance Tracker\n",
      "1. Add Transaction\n",
      "2. View Transactions\n",
      "3. Export to CSV\n",
      "4. Generate Reports\n",
      "5. Set Budget\n",
      "6. Exit\n"
     ]
    },
    {
     "name": "stdin",
     "output_type": "stream",
     "text": [
      "\n",
      "Enter your choice:  3\n"
     ]
    },
    {
     "name": "stdout",
     "output_type": "stream",
     "text": [
      "Data exported to finance_data.csv\n",
      "\n",
      "\n",
      "Personal Finance Tracker\n",
      "1. Add Transaction\n",
      "2. View Transactions\n",
      "3. Export to CSV\n",
      "4. Generate Reports\n",
      "5. Set Budget\n",
      "6. Exit\n"
     ]
    },
    {
     "name": "stdin",
     "output_type": "stream",
     "text": [
      "\n",
      "Enter your choice:  4\n"
     ]
    },
    {
     "data": {
      "image/png": "[encoded data removed]",
      "text/plain": [
       "<Figure size 640x480 with 1 Axes>"
      ]
     },
     "metadata": {},
     "output_type": "display_data"
    },
    {
     "name": "stdout",
     "output_type": "stream",
     "text": [
      "\n",
      "Personal Finance Tracker\n",
      "1. Add Transaction\n",
      "2. View Transactions\n",
      "3. Export to CSV\n",
      "4. Generate Reports\n",
      "5. Set Budget\n",
      "6. Exit\n"
     ]
    },
    {
     "name": "stdin",
     "output_type": "stream",
     "text": [
      "\n",
      "Enter your choice:  6\n"
     ]
    },
    {
     "name": "stdout",
     "output_type": "stream",
     "text": [
      "Exiting... Goodbye!\n"
     ]
    }
   ],
   "source": [
    "import pandas as pd\n",
    "import matplotlib.pyplot as plt\n",
    "import seaborn as sns\n",
    "\n",
    "# Initialize DataFrame to store financial data\n",
    "data = pd.DataFrame(columns=[\"Date\", \"Type\", \"Category\", \"Amount\"])\n",
    "\n",
    "def add_transaction():\n",
    "    \"\"\"Add income or expense transaction.\"\"\"\n",
    "    global data\n",
    "    date = input(\"Enter the date (YYYY-MM-DD): \")\n",
    "    trans_type = input(\"Enter the type (income/expense): \").lower()\n",
    "    category = input(\"Enter the category (e.g., salary, groceries, rent): \").lower()\n",
    "    amount = float(input(\"Enter the amount: \"))\n",
    "    \n",
    "    # Append the new transaction to the DataFrame\n",
    "    data = pd.concat([data, pd.DataFrame({\"Date\": [date], \"Type\": [trans_type], \"Category\": [category], \"Amount\": [amount]})], ignore_index=True)\n",
    "    print(\"Transaction added successfully!\\n\")\n",
    "\n",
    "def view_transactions():\n",
    "    \"\"\"View all transactions.\"\"\"\n",
    "    global data\n",
    "    print(\"\\nAll Transactions:\")\n",
    "    print(data.to_string(index=False))\n",
    "\n",
    "def export_to_csv(filename=\"finance_data.csv\"):\n",
    "    \"\"\"Export data to a CSV file.\"\"\"\n",
    "    global data\n",
    "    data.to_csv(filename, index=False)\n",
    "    print(f\"Data exported to {filename}\\n\")\n",
    "\n",
    "def generate_reports():\n",
    "    \"\"\"Generate spending and income visualizations.\"\"\"\n",
    "    global data\n",
    "    if data.empty:\n",
    "        print(\"No data to visualize!\")\n",
    "        return\n",
    "\n",
    "    # Spending distribution by category\n",
    "    expense_data = data[data[\"Type\"] == \"expense\"]\n",
    "    if not expense_data.empty:\n",
    "        expense_data.groupby(\"Category\")[\"Amount\"].sum().plot.pie(autopct='%1.1f%%', startangle=90)\n",
    "        plt.title(\"Spending by Category\")\n",
    "        plt.ylabel(\"\")\n",
    "        plt.show()\n",
    "\n",
    "    # Income vs Expenses over time\n",
    "    data[\"Date\"] = pd.to_datetime(data[\"Date\"])  # Ensure Date is in datetime format\n",
    "    income_expense_summary = data.groupby([\"Date\", \"Type\"])[\"Amount\"].sum().unstack().fillna(0)\n",
    "    income_expense_summary.plot(kind=\"bar\", stacked=True)\n",
    "    plt.title(\"Income vs Expenses Over Time\")\n",
    "    plt.xlabel(\"Date\")\n",
    "    plt.ylabel(\"Amount\")\n",
    "    plt.show()\n",
    "\n",
    "def set_budget():\n",
    "    \"\"\"Set a budget goal and track progress.\"\"\"\n",
    "    global data\n",
    "    budget = float(input(\"Enter your monthly budget: \"))\n",
    "    monthly_expense = data[data[\"Type\"] == \"expense\"][\"Amount\"].sum()\n",
    "    print(f\"Your total expenses this month: {monthly_expense}\")\n",
    "    if monthly_expense > budget:\n",
    "        print(\"⚠ You've exceeded your budget!\")\n",
    "    else:\n",
    "        print(f\"✅ You're within your budget! Remaining: {budget - monthly_expense}\\n\")\n",
    "\n",
    "def menu():\n",
    "    \"\"\"Display the menu options.\"\"\"\n",
    "    print(\"\\nPersonal Finance Tracker\")\n",
    "    print(\"1. Add Transaction\")\n",
    "    print(\"2. View Transactions\")\n",
    "    print(\"3. Export to CSV\")\n",
    "    print(\"4. Generate Reports\")\n",
    "    print(\"5. Set Budget\")\n",
    "    print(\"6. Exit\")\n",
    "\n",
    "while True:\n",
    "    menu()\n",
    "    choice = input(\"\\nEnter your choice: \")\n",
    "    if choice == \"1\":\n",
    "        add_transaction()\n",
    "    elif choice == \"2\":\n",
    "        view_transactions()\n",
    "    elif choice == \"3\":\n",
    "        export_to_csv()\n",
    "    elif choice == \"4\":\n",
    "        generate_reports()\n",
    "    elif choice == \"5\":\n",
    "        set_budget()\n",
    "    elif choice == \"6\":\n",
    "        print(\"Exiting... Goodbye!\")\n",
    "        break\n",
    "    else:\n",
    "        print(\"Invalid choice. Please try again.\")"
   ]
  },
  {
   "cell_type": "code",
   "execution_count": null,
   "id": "4c192188-ba56-4098-95aa-bcf919c3d6e1",
   "metadata": {},
   "outputs": [],
   "source": []
  }
 ],
 "metadata": {
  "kernelspec": {
   "display_name": "Python 3 (ipykernel)",
   "language": "python",
   "name": "python3"
  },
  "language_info": {
   "codemirror_mode": {
    "name": "ipython",
    "version": 3
   },
   "file_extension": ".py",
   "mimetype": "text/x-python",
   "name": "python",
   "nbconvert_exporter": "python",
   "pygments_lexer": "ipython3",
   "version": "3.13.1"
  }
 },
 "nbformat": 4,
 "nbformat_minor": 5
}
